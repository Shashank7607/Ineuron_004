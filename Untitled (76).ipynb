{
 "cells": [
  {
   "cell_type": "markdown",
   "id": "8245019f-4769-4195-abd5-eadc1ae5b950",
   "metadata": {},
   "source": [
    "1. Why are functions advantageous to have in your programs?"
   ]
  },
  {
   "cell_type": "code",
   "execution_count": 2,
   "id": "9fcd1eb4-69ec-4b01-a91b-c1cd9eda4178",
   "metadata": {},
   "outputs": [],
   "source": [
    "# Functions are advantageous to have in your programs for several reasons:\n",
    "\n",
    "# 1.Modularity: Functions allow you to break down your code into smaller, more manageable pieces. Each function can encapsulate a specific task or piece of functionality. This modularity makes your code easier to understand, maintain, and debug. It also promotes code reusability since you can call the same function in different parts of your program.\n",
    "\n",
    "# 2.Abstraction: Functions provide an abstraction layer that hides the implementation details of a particular task. This means that you can use a function without needing to understand how it works internally. This simplifies the overall code, as you can focus on what a function does rather than how it does it.\n",
    "\n",
    "# 3.Readability: Functions make your code more readable by giving meaningful names to blocks of code. This makes it easier for you and other developers to understand the purpose of different parts of the program.\n",
    "\n",
    "# 4.Testing: Functions are easier to test in isolation. You can write unit tests for individual functions to ensure they work correctly. This testing approach makes it easier to identify and fix issues in your code.\n",
    "\n",
    "# 5.Code Reusability: You can use the same function in multiple places in your program, reducing code duplication. If you need to make changes or bug fixes, you only need to update the function in one place, rather than making changes in multiple locations.\n",
    "\n",
    "# 6.Scalability: As your program grows, functions help you manage its complexity. You can add new functions to extend the program's functionality without affecting existing code significantly.\n",
    "\n",
    "# 7.Collaboration: When working in a team, functions allow different team members to work on separate parts of the codebase independently. Each developer can focus on implementing and testing specific functions, which can then be integrated into the overall program.\n",
    "\n",
    "# 7.Error Handling: Functions can handle errors and exceptions in a structured way. You can use try-catch blocks or return error codes to handle exceptional situations gracefully.\n",
    "\n",
    "# 8.Code Maintenance: When you need to make updates or improvements to your program, having well-structured functions makes it much easier to locate and modify the relevant parts of the code without disrupting the entire application.\n",
    "\n",
    "# In summary, functions promote good programming practices, such as modularity, abstraction, and code reuse, making your code more organized, maintainable, and scalable. They also facilitate collaboration and testing, ultimately leading to more robust and efficient software development.\n",
    "\n",
    "\n",
    "\n",
    "\n"
   ]
  },
  {
   "cell_type": "markdown",
   "id": "34f09da8-7b40-4a3b-9a1a-cc6367a409ac",
   "metadata": {},
   "source": [
    "2. When does the code in a function run: when it&#39;s specified or when it&#39;s called?"
   ]
  },
  {
   "cell_type": "code",
   "execution_count": 3,
   "id": "5e0fbd83-9e01-4351-875e-6cb49d73f2be",
   "metadata": {},
   "outputs": [],
   "source": [
    "# The code in a function runs when the function is called, not when it's specified or defined.\n",
    "\n",
    "# Here's how the process works:\n",
    "\n",
    "# 1.Function Definition: When you define a function in your code, you are essentially creating a reusable block of code with a specific name and a set of parameters (if any). However, the code inside the function is not executed at this stage.\n",
    "\n",
    "# 2.Function Call: To execute the code within a function, you need to call that function by its name, and you may provide any required arguments or parameters. When the function is called, the program's execution flow jumps to the point in the code where the function is defined.\n",
    "\n",
    "# 3.Execution of Function Code: At the point of the function call, the code within the function is executed sequentially. It performs the specified actions and can return a value, modify variables, or perform any other tasks defined within the function's body.\n",
    "\n",
    "# 4.Return (if applicable): If the function has a return statement, it can return a value to the caller, which can be used or ignored depending on how the function call is used.\n",
    "\n",
    "# Here's a simple example in Python to illustrate this:"
   ]
  },
  {
   "cell_type": "code",
   "execution_count": 4,
   "id": "d35b8966-9715-46b0-bb9c-da91cb01d008",
   "metadata": {},
   "outputs": [
    {
     "name": "stdout",
     "output_type": "stream",
     "text": [
      "Hello, Alice!\n"
     ]
    }
   ],
   "source": [
    "def greet(name):\n",
    "    print(\"Hello, \" + name + \"!\")\n",
    "    \n",
    "# Function defined, but code not executed yet\n",
    "\n",
    "greet(\"Alice\")\n",
    "# Now the code within the 'greet' function is executed, and it prints \"Hello, Alice!\"\n"
   ]
  },
  {
   "cell_type": "markdown",
   "id": "d122bffd-cc14-48aa-963f-a18a5559f328",
   "metadata": {},
   "source": [
    "3. What statement creates a function?"
   ]
  },
  {
   "cell_type": "code",
   "execution_count": 5,
   "id": "e025e436-d1f3-4084-9633-d7c68d0e9007",
   "metadata": {},
   "outputs": [],
   "source": [
    "# In most programming languages, including Python, JavaScript, and many others, the def keyword is commonly used to create (or define) a function. Here's how it works in Python:"
   ]
  },
  {
   "cell_type": "code",
   "execution_count": 11,
   "id": "195addbc-d396-4e71-bbd3-bc271a4b882b",
   "metadata": {},
   "outputs": [],
   "source": [
    "# def my_function(parameters):\n",
    "    # Function code goes here\n",
    "    # You can perform tasks and optionally return a value\n"
   ]
  },
  {
   "cell_type": "code",
   "execution_count": 7,
   "id": "0fac83ca-d963-41bc-9c2c-4228b19d5447",
   "metadata": {},
   "outputs": [],
   "source": [
    "# In the example above, def is the keyword used to create a function named my_function. The function may take parameters in the parentheses, and the code for the function is indented below. This code block defines what the function does when it's called.\n",
    "\n",
    "# In JavaScript, the function keyword is used to define a function, and it can be done in several ways, including:"
   ]
  },
  {
   "cell_type": "code",
   "execution_count": 10,
   "id": "12c280b1-7955-4fb1-8af0-336076795b89",
   "metadata": {},
   "outputs": [],
   "source": [
    "# 1 Function Declaration:\n",
    "\n",
    "# function myFunction(parameters) {\n",
    "#     // Function code goes here\n",
    "#     // You can perform tasks and optionally return a value\n",
    "# }\n"
   ]
  },
  {
   "cell_type": "code",
   "execution_count": 12,
   "id": "c893e007-0b72-4760-9977-b2e859cb7eaf",
   "metadata": {},
   "outputs": [],
   "source": [
    "# Function Expression (Anonymous Function):\n",
    "\n",
    "# var myFunction = function(parameters) {\n",
    "#    // Function code goes here\n",
    "#   // You can perform tasks and optionally return a value\n",
    "# };\n"
   ]
  },
  {
   "cell_type": "code",
   "execution_count": 13,
   "id": "e5c6cc00-c2d7-4f63-812e-7aafcbfe9db2",
   "metadata": {},
   "outputs": [],
   "source": [
    "# The function keyword in JavaScript serves the same purpose as def in Python; it defines a function that can be called to execute a specific block of code.\n",
    "\n",
    "# The syntax for creating functions may vary between programming languages, but the concept of using a keyword to define a reusable block of code remains consistent."
   ]
  },
  {
   "cell_type": "markdown",
   "id": "6dde894a-aae4-4fda-86c8-2eff9575a680",
   "metadata": {},
   "source": [
    "4. What is the difference between a function and a function call?"
   ]
  },
  {
   "cell_type": "code",
   "execution_count": 14,
   "id": "07592cc0-281d-4cb4-b993-29b1f8966332",
   "metadata": {},
   "outputs": [],
   "source": [
    "# A function and a function call are two related concepts in programming, but they serve different purposes and play distinct roles:\n",
    "\n",
    "# 1. Function:\n",
    "\n",
    "# A function is a named block of code that performs a specific task or a series of tasks.\n",
    "# It is defined using a specific keyword in the programming language, such as def in Python or function in JavaScript.\n",
    "# Functions are created to encapsulate and group a set of instructions that can be reused multiple times in a program.\n",
    "# Functions can have parameters (input values) and may return a result (output value).\n",
    "# 2. Function Call:\n",
    "\n",
    "# A function call is the action of using a function in your code by its name, along with any required arguments or parameters.\n",
    "# When a function is called, the program's execution flow jumps to the code inside the function and executes the instructions defined within it.\n",
    "# A function call is how you trigger the execution of the code contained within a function.\n",
    "# The result (if the function returns one) can be used or ignored depending on how the function call is used.\n",
    "# Here's an example in Python to illustrate the difference:\n",
    "\n"
   ]
  },
  {
   "cell_type": "code",
   "execution_count": 15,
   "id": "553fd9c4-4593-4abd-87c9-c3dc615f5430",
   "metadata": {},
   "outputs": [],
   "source": [
    "# Function definition\n",
    "def add(a, b):\n",
    "    return a + b\n",
    "\n",
    "# Function call\n",
    "result = add(3, 5)\n",
    "\n",
    "# In this code, \"add\" is a function, and \"add(3, 5)\" is a function call.\n",
    "# The function \"add\" is defined to take two parameters, and it returns their sum.\n",
    "# The function call \"add(3, 5)\" executes the code inside \"add\" and returns 8,\n",
    "# which is stored in the \"result\" variable.\n"
   ]
  },
  {
   "cell_type": "code",
   "execution_count": 16,
   "id": "912613dc-778a-41a0-a7c6-31d732d87329",
   "metadata": {},
   "outputs": [],
   "source": [
    "# In summary, a function is a reusable block of code that defines a specific task, and a function call is the act of using that function to execute the code it contains with specific arguments. Functions and function calls are fundamental to structuring and reusing code in programming."
   ]
  },
  {
   "cell_type": "markdown",
   "id": "4704bd79-2e57-415c-b3a9-feb461f954f0",
   "metadata": {},
   "source": [
    "5. How many global scopes are there in a Python program? How many local scopes?"
   ]
  },
  {
   "cell_type": "code",
   "execution_count": 17,
   "id": "07e8023c-a9c5-4eda-ac06-98b7fa471541",
   "metadata": {},
   "outputs": [],
   "source": [
    "# In a Python program, there is one global scope, and local scopes can be created within functions, loops, or other code blocks. Let's break this down:\n",
    "\n",
    "# 1.Global Scope:\n",
    "\n",
    "# There is only one global scope in a Python program.\n",
    "# The global scope is the outermost scope and is accessible from any part of your program.\n",
    "# Variables defined in the global scope are considered global variables and can be accessed from within functions and other code blocks.\n",
    "# 2.Local Scopes:\n",
    "\n",
    "# Local scopes can be created within functions, loops, conditional statements, or any other code block that defines a new scope.\n",
    "# Each time you define a function, you create a new local scope.\n",
    "# Variables defined within a local scope are considered local variables and are only accessible within that specific scope.\n",
    "# Local variables with the same name as a global variable will shadow (take precedence over) the global variable within that local scope.\n",
    "# Local scopes are temporary and exist only for the duration of the function or code block in which they are defined.\n",
    "# Here's an example to illustrate the concept of global and local scopes in Python:"
   ]
  },
  {
   "cell_type": "code",
   "execution_count": 18,
   "id": "56672792-08e6-42a8-ba2e-12ecb74869fe",
   "metadata": {},
   "outputs": [
    {
     "name": "stdout",
     "output_type": "stream",
     "text": [
      "42\n",
      "10\n",
      "42\n"
     ]
    }
   ],
   "source": [
    "global_variable = 42  # This is a global variable\n",
    "\n",
    "def my_function():\n",
    "    local_variable = 10  # This is a local variable within the function\n",
    "    print(global_variable)  # Accessing the global variable from within the function\n",
    "    print(local_variable)   # Accessing the local variable within the function\n",
    "\n",
    "my_function()\n",
    "\n",
    "print(global_variable)  # Accessing the global variable outside the function\n",
    "# print(local_variable)  # This would raise an error since local_variable is not defined in the global scope\n"
   ]
  },
  {
   "cell_type": "code",
   "execution_count": 19,
   "id": "e8125b54-cc4c-4864-877e-d0ed9d268890",
   "metadata": {},
   "outputs": [],
   "source": [
    "# In the example above, global_variable is defined in the global scope, and local_variable is defined within the my_function function, creating a local scope. The global variable is accessible both within the function and outside of it, while the local variable is only accessible within the function's local scope. Attempting to access local_variable outside of the function would result in an error because it is not defined in the global scope."
   ]
  },
  {
   "cell_type": "markdown",
   "id": "eb278d90-a46b-4d59-bf8c-31530f3f29bd",
   "metadata": {},
   "source": [
    "6. What happens to variables in a local scope when the function call returns?"
   ]
  },
  {
   "cell_type": "code",
   "execution_count": 20,
   "id": "c770806f-f8d6-4748-9a3f-dbf421f99849",
   "metadata": {},
   "outputs": [],
   "source": [
    "# When a function call in Python returns, the local variables that were defined within the function's local scope cease to exist. In other words, they go out of scope and are destroyed. This is part of Python's scoping and variable lifecycle rules, and it has several important implications:\n",
    "\n",
    "# 1.Local Variables Are Cleared: Any variables declared within the function are cleared from memory. They are no longer accessible or available for use after the function call has completed.\n",
    "\n",
    "# 2.Variable Values Are Lost: Any data stored in those local variables is lost, and their values are not retained after the function call returns. This is why local variables are often used for temporary storage within the function.\n",
    "\n",
    "# 3.Reclaiming Memory: Python's garbage collector may free up the memory occupied by these local variables when they are no longer in use. This helps manage memory efficiently.\n",
    "\n",
    "# Here's an example to illustrate the behavior of local variables when a function call returns:"
   ]
  },
  {
   "cell_type": "code",
   "execution_count": 21,
   "id": "a0e5a40c-2944-4ed7-870b-dcfdfdb96f61",
   "metadata": {},
   "outputs": [
    {
     "name": "stdout",
     "output_type": "stream",
     "text": [
      "Inside the function: 42\n"
     ]
    }
   ],
   "source": [
    "def my_function():\n",
    "    local_variable = 42  # Local variable\n",
    "    print(\"Inside the function:\", local_variable)\n",
    "\n",
    "my_function()  # Call the function\n",
    "\n",
    "# Attempting to access local_variable here would result in an error\n"
   ]
  },
  {
   "cell_type": "code",
   "execution_count": 22,
   "id": "d2d8c252-e6ee-49b5-821a-6b00f0e159c1",
   "metadata": {},
   "outputs": [],
   "source": [
    "# In this example, local_variable is a local variable defined within the my_function function. When the function call my_function() returns, local_variable goes out of scope and is no longer accessible. If you try to access it outside of the function, you will encounter an error because the variable does not exist in the current scope.\n",
    "\n",
    "# In summary, local variables in a local scope are temporary and exist only for the duration of the function call. They are automatically destroyed when the function call returns, and their values are not retained."
   ]
  },
  {
   "cell_type": "markdown",
   "id": "a07028a9-d864-49d7-bc8c-f00fc8dce28b",
   "metadata": {},
   "source": [
    "7. What is the concept of a return value? Is it possible to have a return value in an expression?"
   ]
  },
  {
   "cell_type": "code",
   "execution_count": 23,
   "id": "16ad3518-ef88-4f67-bfde-2f866230bff6",
   "metadata": {},
   "outputs": [],
   "source": [
    "# The concept of a return value is fundamental in programming. It refers to the value that a function can send back to the caller when the function is executed. A return value allows a function to produce a result or output that can be used in the calling code.\n",
    "\n",
    "# In many programming languages, including Python, you can use the return statement to specify the value that a function should return. The return value can be of any data type, such as integers, strings, lists, objects, or even None (a special value representing the absence of a value).\n",
    "\n",
    "# Here's an example in Python:"
   ]
  },
  {
   "cell_type": "code",
   "execution_count": 24,
   "id": "e1c20b7f-98d1-45bd-8aa6-7ad52bb5f19a",
   "metadata": {},
   "outputs": [
    {
     "name": "stdout",
     "output_type": "stream",
     "text": [
      "The sum is: 8\n"
     ]
    }
   ],
   "source": [
    "def add(a, b):\n",
    "    result = a + b\n",
    "    return result  # This function returns the sum of 'a' and 'b'\n",
    "\n",
    "# Calling the function and storing the return value in a variable\n",
    "sum_result = add(3, 5)\n",
    "\n",
    "print(\"The sum is:\", sum_result)  # Prints: The sum is: 8\n"
   ]
  },
  {
   "cell_type": "code",
   "execution_count": 25,
   "id": "199400bd-ec55-4f7e-b074-311f4ab0fd70",
   "metadata": {},
   "outputs": [],
   "source": [
    "# In the example above, the add function takes two arguments and returns the result of their addition. The return statement allows the function to pass the result back to the caller, and this result is stored in the sum_result variable.\n",
    "\n",
    "# Regarding the question of whether it is possible to have a return value in an expression, the answer is yes. In many programming languages, including Python, you can use the return value of a function directly in an expression or assign it to a variable, as shown in the example above. This enables you to use the result of a function call in calculations, comparisons, or any other context where an expression is expected.\n",
    "\n",
    "# For example, you can use the return value of a function in an arithmetic expression:"
   ]
  },
  {
   "cell_type": "code",
   "execution_count": 26,
   "id": "2372430f-d5a6-4b74-9a2b-697028969072",
   "metadata": {},
   "outputs": [],
   "source": [
    "total = add(10, add(3, 5))  # Using the return values of two function calls in an expression\n"
   ]
  },
  {
   "cell_type": "markdown",
   "id": "b6bfe0b5-8a94-4cda-908b-d3345fbaed3b",
   "metadata": {},
   "source": [
    "8. If a function does not have a return statement, what is the return value of a call to that function?"
   ]
  },
  {
   "cell_type": "code",
   "execution_count": 27,
   "id": "873521c6-28ae-4fdf-8583-0c9a48e75d9f",
   "metadata": {},
   "outputs": [],
   "source": [
    "# If a function does not have a return statement, the return value of a call to that function is None. In Python, None is a special value that represents the absence of a value. It's often used to indicate that a function has no specific result or to represent the default return value in the absence of an explicit return statement.\n",
    "\n",
    "# Here's an example to illustrate this:"
   ]
  },
  {
   "cell_type": "code",
   "execution_count": 28,
   "id": "25df5b85-3bea-4bf5-a13d-bd2963f2c592",
   "metadata": {},
   "outputs": [
    {
     "ename": "IndentationError",
     "evalue": "expected an indented block after function definition on line 1 (388668947.py, line 4)",
     "output_type": "error",
     "traceback": [
      "\u001b[0;36m  Cell \u001b[0;32mIn [28], line 4\u001b[0;36m\u001b[0m\n\u001b[0;31m    result = no_return_function()\u001b[0m\n\u001b[0m    ^\u001b[0m\n\u001b[0;31mIndentationError\u001b[0m\u001b[0;31m:\u001b[0m expected an indented block after function definition on line 1\n"
     ]
    }
   ],
   "source": [
    "def no_return_function():\n",
    "    # This function does not have a 'return' statement\n",
    "\n",
    "result = no_return_function()\n",
    "\n",
    "print(result)  # This will print 'None'\n"
   ]
  },
  {
   "cell_type": "code",
   "execution_count": 29,
   "id": "3887060b-1035-4d24-be2e-409beff337fc",
   "metadata": {},
   "outputs": [],
   "source": [
    "# In the example above, the no_return_function does not contain a return statement. When you call this function and assign the result to the result variable, it contains the value None.\n",
    "\n",
    "# It's essential to be aware of this behavior when working with functions in Python. If you don't provide a return statement, the function implicitly returns None. However, if you intend for a function to return a specific value, you should use a return statement to indicate that value."
   ]
  },
  {
   "cell_type": "markdown",
   "id": "288a2930-7801-48a2-b39a-ae1d1a86d7cd",
   "metadata": {},
   "source": [
    "9. How do you make a function variable refer to the global variable?"
   ]
  },
  {
   "cell_type": "code",
   "execution_count": 30,
   "id": "2df3c7b4-8f52-4507-b721-63586cd03a3f",
   "metadata": {},
   "outputs": [],
   "source": [
    "# In Python, if you want to make a function variable refer to a global variable, you can use the global keyword within the function. This tells Python that you intend to work with the global variable, rather than creating a new local variable with the same name. Here's how you can use the global keyword:"
   ]
  },
  {
   "cell_type": "code",
   "execution_count": 31,
   "id": "2e41bccb-b5f4-41b9-91f7-95eedf681346",
   "metadata": {},
   "outputs": [
    {
     "name": "stdout",
     "output_type": "stream",
     "text": [
      "10\n"
     ]
    }
   ],
   "source": [
    "global_variable = 42  # This is a global variable\n",
    "\n",
    "def my_function():\n",
    "    global global_variable  # Using the 'global' keyword to reference the global variable\n",
    "    global_variable = 10  # This modifies the global variable\n",
    "\n",
    "my_function()  # Call the function\n",
    "\n",
    "print(global_variable)  # Prints: 10\n"
   ]
  },
  {
   "cell_type": "code",
   "execution_count": 32,
   "id": "e9c07700-9a0a-4a46-9af7-4e388c550c05",
   "metadata": {},
   "outputs": [],
   "source": [
    "# In this example, the global_variable is defined in the global scope. Inside the my_function function, we use the global keyword to indicate that we want to work with the global variable of the same name. When we assign a new value to global_variable within the function, it modifies the global variable itself. After calling the function, the global variable's value changes to 10, and this change is reflected when we print the global variable outside the function.\n",
    "\n",
    "# It's important to use the global keyword with caution, as modifying global variables within functions can make your code harder to understand and debug. It's often considered good practice to minimize the use of global variables and instead pass data between functions through parameters and return values whenever possible."
   ]
  },
  {
   "cell_type": "markdown",
   "id": "95a679d2-4ee4-4ea1-889e-3dea72a7c4ca",
   "metadata": {},
   "source": [
    "10. What is the data type of None?"
   ]
  },
  {
   "cell_type": "code",
   "execution_count": 33,
   "id": "c435c472-09a8-4a92-8880-8187b41d8eb8",
   "metadata": {},
   "outputs": [],
   "source": [
    "# In Python, the data type of None is called NoneType. None is a special value that represents the absence of a value or the lack of a specific object. It is often used to indicate that a variable or result is undefined or that a function has no explicit return value.\n",
    "\n",
    "# You can check the data type of None using the type() function, like this:"
   ]
  },
  {
   "cell_type": "code",
   "execution_count": 34,
   "id": "b8840ecd-b7a0-4e5a-ae4f-7ea51449a462",
   "metadata": {},
   "outputs": [
    {
     "name": "stdout",
     "output_type": "stream",
     "text": [
      "<class 'NoneType'>\n"
     ]
    }
   ],
   "source": [
    "result = None\n",
    "print(type(result))  # This will print: <class 'NoneType'>\n"
   ]
  },
  {
   "cell_type": "markdown",
   "id": "4a0e5a6e-2fb9-469f-b119-78f6a5a9588d",
   "metadata": {},
   "source": [
    "11. What does the sentence import areallyourpetsnamederic do?"
   ]
  },
  {
   "cell_type": "code",
   "execution_count": 35,
   "id": "1112ca23-6ef3-42d8-b8a6-a39f547f6ff0",
   "metadata": {},
   "outputs": [],
   "source": [
    "# The sentence \"import areallyourpetsnamederic\" does not have any predefined or built-in meaning in Python. It is not a standard Python module or package, and Python would not recognize this as a valid import statement. Python import statements are used to bring in external modules or libraries that extend the functionality of your code, but \"areallyourpetsnamederic\" is not a recognized module or package in the Python ecosystem.\n",
    "\n",
    "# If you try to use this import statement in your Python code, you will likely encounter an error such as \"ModuleNotFoundError\" because Python cannot find a module with that name. In Python, you can only import modules or packages that exist and are available in your environment.\n",
    "\n"
   ]
  },
  {
   "cell_type": "markdown",
   "id": "e13e0be9-19c5-4425-84e6-279e99cf7771",
   "metadata": {},
   "source": [
    "12. If you had a bacon() feature in a spam module, what would you call it after importing spam?"
   ]
  },
  {
   "cell_type": "code",
   "execution_count": 36,
   "id": "84158895-ec3e-4d14-8e8f-78591aeaadc5",
   "metadata": {},
   "outputs": [],
   "source": [
    "# If you have a function named bacon() in a module named spam, and you want to use this function after importing the spam module, you can call it using the module name as a prefix. Here's how you would call the bacon() function:"
   ]
  },
  {
   "cell_type": "code",
   "execution_count": 37,
   "id": "1e8e9f3d-06a5-4ed8-ab37-c8e9a9d4a8f1",
   "metadata": {},
   "outputs": [
    {
     "ename": "ModuleNotFoundError",
     "evalue": "No module named 'spam'",
     "output_type": "error",
     "traceback": [
      "\u001b[0;31m---------------------------------------------------------------------------\u001b[0m",
      "\u001b[0;31mModuleNotFoundError\u001b[0m                       Traceback (most recent call last)",
      "Cell \u001b[0;32mIn [37], line 1\u001b[0m\n\u001b[0;32m----> 1\u001b[0m \u001b[38;5;28;01mimport\u001b[39;00m \u001b[38;5;21;01mspam\u001b[39;00m\n\u001b[1;32m      3\u001b[0m result \u001b[38;5;241m=\u001b[39m spam\u001b[38;5;241m.\u001b[39mbacon()\n",
      "\u001b[0;31mModuleNotFoundError\u001b[0m: No module named 'spam'"
     ]
    }
   ],
   "source": [
    "import spam\n",
    "\n",
    "result = spam.bacon()\n"
   ]
  },
  {
   "cell_type": "code",
   "execution_count": 38,
   "id": "d67cb1e0-d996-4acd-a0e1-11324a3138b7",
   "metadata": {},
   "outputs": [],
   "source": [
    "# In this code, the import spam statement brings the spam module into your current Python script or program. After importing it, you can access the bacon() function as spam.bacon(). This allows you to use the function and access its functionality within your code.\n",
    "\n",
    "# Remember that using the module name as a prefix is necessary to avoid naming conflicts and to specify that you are calling a function from the spam module, especially when multiple modules might contain functions with the same name."
   ]
  },
  {
   "cell_type": "markdown",
   "id": "b8abdfca-4a28-4375-9a6f-fb52d971310b",
   "metadata": {},
   "source": [
    "13. What can you do to save a programme from crashing if it encounters an error?"
   ]
  },
  {
   "cell_type": "code",
   "execution_count": 39,
   "id": "eef3ac6f-5376-44ff-9986-41174d0b0862",
   "metadata": {},
   "outputs": [],
   "source": [
    "# To prevent a program from crashing when it encounters an error, you can implement error handling techniques. These techniques help you gracefully handle exceptions and unexpected conditions, allowing your program to continue running or exit gracefully without crashing. Here are some common strategies to handle errors and avoid program crashes:"
   ]
  },
  {
   "cell_type": "code",
   "execution_count": 40,
   "id": "ea008437-0a60-411a-8808-6eeedf341e11",
   "metadata": {},
   "outputs": [],
   "source": [
    "# 1.Try-Except Blocks:\n",
    "\n",
    "# Use try and except blocks to catch and handle exceptions. Wrap the code that might raise an exception inside a try block and provide one or more except blocks to specify how to handle different types of exceptions."
   ]
  },
  {
   "cell_type": "code",
   "execution_count": 50,
   "id": "3bfa6f20-dd12-4d5f-93ed-d2c1d59b9e65",
   "metadata": {},
   "outputs": [
    {
     "ename": "IndentationError",
     "evalue": "expected an indented block after 'try' statement on line 1 (1249523412.py, line 3)",
     "output_type": "error",
     "traceback": [
      "\u001b[0;36m  Cell \u001b[0;32mIn [50], line 3\u001b[0;36m\u001b[0m\n\u001b[0;31m    except SomeException as e:\u001b[0m\n\u001b[0m    ^\u001b[0m\n\u001b[0;31mIndentationError\u001b[0m\u001b[0;31m:\u001b[0m expected an indented block after 'try' statement on line 1\n"
     ]
    }
   ],
   "source": [
    "try:\n",
    "    # Code that might raise an exception\n",
    "except SomeException as e:\n",
    "    # Handle the exception, e.g., log it or display an error message\n"
   ]
  },
  {
   "cell_type": "code",
   "execution_count": 42,
   "id": "6bc8442b-d1c2-47cd-b295-1a06aed624ea",
   "metadata": {},
   "outputs": [],
   "source": [
    "# 2.Use \"finally\" Block:\n",
    "\n",
    "# You can also use a finally block in combination with try and except to ensure that certain code (e.g., cleanup or resource release) runs regardless of whether an exception occurred."
   ]
  },
  {
   "cell_type": "code",
   "execution_count": 43,
   "id": "6a0f0602-7a88-4d60-a204-2e344929d845",
   "metadata": {},
   "outputs": [
    {
     "ename": "IndentationError",
     "evalue": "expected an indented block after 'try' statement on line 1 (2426122428.py, line 3)",
     "output_type": "error",
     "traceback": [
      "\u001b[0;36m  Cell \u001b[0;32mIn [43], line 3\u001b[0;36m\u001b[0m\n\u001b[0;31m    except SomeException as e:\u001b[0m\n\u001b[0m    ^\u001b[0m\n\u001b[0;31mIndentationError\u001b[0m\u001b[0;31m:\u001b[0m expected an indented block after 'try' statement on line 1\n"
     ]
    }
   ],
   "source": [
    "try:\n",
    "    # Code that might raise an exception\n",
    "except SomeException as e:\n",
    "    # Handle the exception\n",
    "finally:\n",
    "    # Code to run whether there was an exception or not\n"
   ]
  },
  {
   "cell_type": "code",
   "execution_count": 44,
   "id": "8d5b0929-7bfa-4828-b6d6-35e4e10e0e53",
   "metadata": {},
   "outputs": [],
   "source": [
    "# 3.Custom Error Messages:\n",
    "\n",
    "# When handling exceptions, provide informative error messages to help users or developers understand the issue. You can use the str() function to convert exception objects to strings for printing."
   ]
  },
  {
   "cell_type": "code",
   "execution_count": 45,
   "id": "ad9ad5a2-f28f-4f22-accc-b8126a2239f7",
   "metadata": {},
   "outputs": [
    {
     "ename": "IndentationError",
     "evalue": "expected an indented block after 'try' statement on line 1 (3563873230.py, line 3)",
     "output_type": "error",
     "traceback": [
      "\u001b[0;36m  Cell \u001b[0;32mIn [45], line 3\u001b[0;36m\u001b[0m\n\u001b[0;31m    except SomeException as e:\u001b[0m\n\u001b[0m    ^\u001b[0m\n\u001b[0;31mIndentationError\u001b[0m\u001b[0;31m:\u001b[0m expected an indented block after 'try' statement on line 1\n"
     ]
    }
   ],
   "source": [
    "try:\n",
    "    # Code that might raise an exception\n",
    "except SomeException as e:\n",
    "    # Handle the exception with a custom error message\n",
    "    print(\"An error occurred:\", str(e))\n"
   ]
  },
  {
   "cell_type": "code",
   "execution_count": 46,
   "id": "986f7621-8966-4a6b-b139-13cc98a9afe6",
   "metadata": {},
   "outputs": [],
   "source": [
    "# 4.Logging:\n",
    "\n",
    "# Use a logging library to record information about exceptions and program behavior. Logging allows you to capture details for debugging and monitoring.\n",
    "# 5.Graceful Termination:\n",
    "\n",
    "# In some cases, it's best to gracefully terminate the program if an unrecoverable error occurs. You can use the sys.exit() function or raise a higher-level exception to signal program termination."
   ]
  },
  {
   "cell_type": "code",
   "execution_count": 47,
   "id": "e99c836f-9806-4bd5-b786-d4073e098cfc",
   "metadata": {},
   "outputs": [
    {
     "ename": "IndentationError",
     "evalue": "expected an indented block after 'try' statement on line 3 (1142896768.py, line 5)",
     "output_type": "error",
     "traceback": [
      "\u001b[0;36m  Cell \u001b[0;32mIn [47], line 5\u001b[0;36m\u001b[0m\n\u001b[0;31m    except SomeException as e:\u001b[0m\n\u001b[0m    ^\u001b[0m\n\u001b[0;31mIndentationError\u001b[0m\u001b[0;31m:\u001b[0m expected an indented block after 'try' statement on line 3\n"
     ]
    }
   ],
   "source": [
    "import sys\n",
    "\n",
    "try:\n",
    "    # Code that might raise an exception\n",
    "except SomeException as e:\n",
    "    # Handle the exception\n",
    "    sys.exit(1)  # Terminate the program with an error code\n"
   ]
  },
  {
   "cell_type": "code",
   "execution_count": 48,
   "id": "3e84b22a-54ea-4bac-a4e1-807ffbde54e5",
   "metadata": {},
   "outputs": [],
   "source": [
    "# 6.Input Validation:\n",
    "\n",
    "# Whenever possible, validate user inputs to avoid errors caused by invalid data. Validate user inputs and provide feedback before processing them.\n",
    "# 7.Unit Testing:\n",
    "\n",
    "# Implement unit tests to identify and fix errors early in the development process. Unit tests can help you catch problems before they become runtime errors.\n",
    "# Remember that error handling is specific to the type of error and the requirements of your program. Your approach to error handling should be determined by the nature of the application and the expectations of users. It's important to provide helpful error messages for users and detailed error information for developers to troubleshoot issues effectively."
   ]
  },
  {
   "cell_type": "markdown",
   "id": "bb3a9bf7-65b8-49ba-9aae-33279df249a6",
   "metadata": {},
   "source": [
    "14. What is the purpose of the try clause? What is the purpose of the except clause?"
   ]
  },
  {
   "cell_type": "code",
   "execution_count": 51,
   "id": "5e6961e6-fcd3-416e-a95f-5a538b28a659",
   "metadata": {},
   "outputs": [],
   "source": [
    "# In Python, the try and except clauses are used for error handling, allowing you to handle exceptions and gracefully manage unexpected situations that may arise during program execution. Each clause serves a specific purpose:\n",
    "\n",
    "# 1.The try Clause:\n",
    "\n",
    "# The try clause is used to enclose a block of code where you expect an exception or error might occur. It defines the \"try\" block within which you want to monitor for exceptions.\n",
    "# The purpose of the try clause is to \"try\" executing the code within it. If no exceptions are raised, the code in the try block is executed as normal.\n",
    "# If an exception occurs within the try block, the program will not crash; instead, it will jump to the appropriate except block to handle the exception.\n",
    "# 2.The except Clause:\n",
    "\n",
    "# The except clause is used to define how to handle specific exceptions that may occur within the associated try block.\n",
    "# When an exception is raised in the try block, the Python interpreter will look for a matching except block for that specific exception type. If a match is found, the code within the except block is executed.\n",
    "# The purpose of the except clause is to catch, handle, and possibly recover from exceptions, preventing the program from crashing.\n",
    "# You can have multiple except blocks to handle different types of exceptions or to provide different error-handling strategies for each exception type.\n",
    "# Here's an example that demonstrates the use of try and except:"
   ]
  },
  {
   "cell_type": "code",
   "execution_count": 52,
   "id": "2967005c-92be-4bc4-91d9-6df14a778950",
   "metadata": {},
   "outputs": [
    {
     "name": "stdout",
     "output_type": "stream",
     "text": [
      "A division by zero error occurred: division by zero\n"
     ]
    }
   ],
   "source": [
    "try:\n",
    "    result = 10 / 0  # This will raise a ZeroDivisionError\n",
    "except ZeroDivisionError as e:\n",
    "    print(\"A division by zero error occurred:\", str(e))\n"
   ]
  },
  {
   "cell_type": "code",
   "execution_count": null,
   "id": "1825828d-b432-4afa-be8c-2ddaf212013e",
   "metadata": {},
   "outputs": [],
   "source": []
  }
 ],
 "metadata": {
  "kernelspec": {
   "display_name": "Python 3 (ipykernel)",
   "language": "python",
   "name": "python3"
  },
  "language_info": {
   "codemirror_mode": {
    "name": "ipython",
    "version": 3
   },
   "file_extension": ".py",
   "mimetype": "text/x-python",
   "name": "python",
   "nbconvert_exporter": "python",
   "pygments_lexer": "ipython3",
   "version": "3.10.6"
  }
 },
 "nbformat": 4,
 "nbformat_minor": 5
}
